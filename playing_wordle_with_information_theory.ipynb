{
 "cells": [
  {
   "cell_type": "markdown",
   "metadata": {},
   "source": [
    "# Playing Wordle with Information Theory\n",
    "\n",
    "[Wordle](https://www.powerlanguage.co.uk/wordle/) is a popular browser game where each day you have to guess a 5-letter word. You get 6 guesses, each of which must be a 5-letter word. After each guess, the game highlights letters to show you how close you were. Each letter in your guess is:\n",
    "\n",
    "* highlighted in green if it is in the answer and in the right place\n",
    "* highlighted in yellow if it is in the answer but in the wrong place\n",
    "* greyed out if it is not in the answer\n",
    "\n",
    "For example, if you guessed SIREN and the answer was SOLAR, the output would be 🟩⬜🟨⬜⬜ - S is in the right place, R is in the word but in the wrong place, and the other letters aren't in the word.\n",
    "\n",
    "The aim is to use this feedback to narrow it down to one word before you run out of guesses. \n",
    "\n",
    "What is the best starting word to use? Each guess gives the player information about the answer. Different words give different amounts of information. So the best starting word is the one that provides the most information about the answer. We can calculate the average amount of information returned for each guess using information theory. \n",
    "\n",
    "## Information Entropy\n",
    "\n",
    "[Claude Shannon](https://en.wikipedia.org/wiki/Claude_Shannon) came up with a way to measure information in his 1948 paper [A Mathematical Theory of Communication](https://people.math.harvard.edu/~ctm/home/text/others/shannon/entropy/entropy.pdf). His [information entropy](https://en.wikipedia.org/wiki/Entropy_(information_theory)) measure represents the average amount of information given by the outcome of a random variable. \n",
    "\n",
    "For a random variable $X$ with possible outcomes $x_1, ..., x_n$, the entropy $H(X)$ of $X$ is:\n",
    "\n",
    "$$H(X) = -\\sum_{i=1}^n P(X = x_i) \\log P(X = x_i)$$\n",
    "\n",
    "The smallest information entropy occurs when there is only one outcome, so $P(X = x_1) = 1$. Then $H(X) = -(1 \\cdot \\log 1) = 0$. \n",
    "\n",
    "The largest information entropy for a given number of outcomes $n$ occurs when $P(X = x_i) = \\frac{1}{n}$ for all $i \\in \\{1, ..., n\\}$.  Then:\n",
    "\n",
    "$$H(X) = -\\sum_{i = 1}^n \\frac{1}{n} \\log \\frac{1}{n}$$\n",
    "\n",
    "$$H(X) = \\log{n}$$\n",
    "\n",
    "Information entropy uses the natural logarithm (rather than base 2), so is measured in [nats](https://en.wikipedia.org/wiki/Nat_(unit)) rather than bits - 1 nat = $\\frac{1}{\\log 2} \\approx$ 1.44 bits. \n",
    "\n",
    "### Information Entropy of Wordle\n",
    "\n",
    "There are 2315 possible answers to Wordle puzzles. These are equally likely, so by the formula above the information entropy of the puzzle is log(2315) = 7.74 nats. \n",
    "\n",
    "Each guess returns five squares that are either green, yellow or grey/white - so there are 3^5 = 243 possible responses. If we found a guess that made these responses equally likely for each answer, the information entropy would be log(243) = 5.49 nats. This is the theoretical maximum amount of information from the first guess. How well can we do in practice?"
   ]
  },
  {
   "cell_type": "markdown",
   "metadata": {},
   "source": [
    "## Methodology\n",
    "\n",
    "This is an illustrative methodology for finding the most informative starting guess. Here I have used a list of 15 words for the possible answers and possible guesses, rather than the full lists (which take a very long time to calculate). \n",
    "\n",
    "### Playing Wordle in Python\n",
    "\n",
    "wordle_guess is a function to check a guess word against an answer. The result is returned as a string of emoji."
   ]
  },
  {
   "cell_type": "code",
   "execution_count": 1,
   "metadata": {},
   "outputs": [
    {
     "data": {
      "text/plain": [
       "'🟩⬜🟨⬜⬜'"
      ]
     },
     "execution_count": 1,
     "metadata": {},
     "output_type": "execute_result"
    }
   ],
   "source": [
    "import numpy as np\n",
    "from emoji import emojize\n",
    "\n",
    "square_emoji = [emojize(\":white_large_square:\"), emojize(\":yellow_square:\"), emojize(\":green_square:\")]\n",
    "\n",
    "def wordle_guess(guess, answer):\n",
    "    \"\"\"Check guess against answer using rules of Wordle. Return a string of emoji.\"\"\"\n",
    "    guess = np.array(list(guess), dtype = str)\n",
    "    answer = np.array(list(answer), dtype = str)\n",
    "    res_numeric = np.isin(guess, answer).astype(int) + (guess == answer).astype(int)\n",
    "    return ''.join([square_emoji[i] for i in res_numeric])\n",
    "\n",
    "wordle_guess(\"siren\", \"solar\")"
   ]
  },
  {
   "cell_type": "markdown",
   "metadata": {},
   "source": [
    "Here is the response for our guess \"siren\" against each of the 15 sample words."
   ]
  },
  {
   "cell_type": "code",
   "execution_count": 2,
   "metadata": {},
   "outputs": [
    {
     "data": {
      "text/html": [
       "<div>\n",
       "<style scoped>\n",
       "    .dataframe tbody tr th:only-of-type {\n",
       "        vertical-align: middle;\n",
       "    }\n",
       "\n",
       "    .dataframe tbody tr th {\n",
       "        vertical-align: top;\n",
       "    }\n",
       "\n",
       "    .dataframe thead th {\n",
       "        text-align: right;\n",
       "    }\n",
       "</style>\n",
       "<table border=\"1\" class=\"dataframe\">\n",
       "  <thead>\n",
       "    <tr style=\"text-align: right;\">\n",
       "      <th></th>\n",
       "      <th>guess</th>\n",
       "      <th>answer</th>\n",
       "      <th>response</th>\n",
       "    </tr>\n",
       "  </thead>\n",
       "  <tbody>\n",
       "    <tr>\n",
       "      <th>0</th>\n",
       "      <td>siren</td>\n",
       "      <td>siren</td>\n",
       "      <td>🟩🟩🟩🟩🟩</td>\n",
       "    </tr>\n",
       "    <tr>\n",
       "      <th>1</th>\n",
       "      <td>siren</td>\n",
       "      <td>solar</td>\n",
       "      <td>🟩⬜🟨⬜⬜</td>\n",
       "    </tr>\n",
       "    <tr>\n",
       "      <th>2</th>\n",
       "      <td>siren</td>\n",
       "      <td>smart</td>\n",
       "      <td>🟩⬜🟨⬜⬜</td>\n",
       "    </tr>\n",
       "    <tr>\n",
       "      <th>3</th>\n",
       "      <td>siren</td>\n",
       "      <td>scour</td>\n",
       "      <td>🟩⬜🟨⬜⬜</td>\n",
       "    </tr>\n",
       "    <tr>\n",
       "      <th>4</th>\n",
       "      <td>siren</td>\n",
       "      <td>pixel</td>\n",
       "      <td>⬜🟩⬜🟩⬜</td>\n",
       "    </tr>\n",
       "    <tr>\n",
       "      <th>5</th>\n",
       "      <td>siren</td>\n",
       "      <td>video</td>\n",
       "      <td>⬜🟩⬜🟩⬜</td>\n",
       "    </tr>\n",
       "    <tr>\n",
       "      <th>6</th>\n",
       "      <td>siren</td>\n",
       "      <td>burnt</td>\n",
       "      <td>⬜⬜🟩⬜🟨</td>\n",
       "    </tr>\n",
       "    <tr>\n",
       "      <th>7</th>\n",
       "      <td>siren</td>\n",
       "      <td>north</td>\n",
       "      <td>⬜⬜🟩⬜🟨</td>\n",
       "    </tr>\n",
       "    <tr>\n",
       "      <th>8</th>\n",
       "      <td>siren</td>\n",
       "      <td>sinew</td>\n",
       "      <td>🟩🟩⬜🟩🟨</td>\n",
       "    </tr>\n",
       "    <tr>\n",
       "      <th>9</th>\n",
       "      <td>siren</td>\n",
       "      <td>dirge</td>\n",
       "      <td>⬜🟩🟩🟨⬜</td>\n",
       "    </tr>\n",
       "    <tr>\n",
       "      <th>10</th>\n",
       "      <td>siren</td>\n",
       "      <td>focal</td>\n",
       "      <td>⬜⬜⬜⬜⬜</td>\n",
       "    </tr>\n",
       "    <tr>\n",
       "      <th>11</th>\n",
       "      <td>siren</td>\n",
       "      <td>adapt</td>\n",
       "      <td>⬜⬜⬜⬜⬜</td>\n",
       "    </tr>\n",
       "    <tr>\n",
       "      <th>12</th>\n",
       "      <td>siren</td>\n",
       "      <td>match</td>\n",
       "      <td>⬜⬜⬜⬜⬜</td>\n",
       "    </tr>\n",
       "    <tr>\n",
       "      <th>13</th>\n",
       "      <td>siren</td>\n",
       "      <td>outdo</td>\n",
       "      <td>⬜⬜⬜⬜⬜</td>\n",
       "    </tr>\n",
       "    <tr>\n",
       "      <th>14</th>\n",
       "      <td>siren</td>\n",
       "      <td>polka</td>\n",
       "      <td>⬜⬜⬜⬜⬜</td>\n",
       "    </tr>\n",
       "  </tbody>\n",
       "</table>\n",
       "</div>"
      ],
      "text/plain": [
       "    guess answer response\n",
       "0   siren  siren    🟩🟩🟩🟩🟩\n",
       "1   siren  solar    🟩⬜🟨⬜⬜\n",
       "2   siren  smart    🟩⬜🟨⬜⬜\n",
       "3   siren  scour    🟩⬜🟨⬜⬜\n",
       "4   siren  pixel    ⬜🟩⬜🟩⬜\n",
       "5   siren  video    ⬜🟩⬜🟩⬜\n",
       "6   siren  burnt    ⬜⬜🟩⬜🟨\n",
       "7   siren  north    ⬜⬜🟩⬜🟨\n",
       "8   siren  sinew    🟩🟩⬜🟩🟨\n",
       "9   siren  dirge    ⬜🟩🟩🟨⬜\n",
       "10  siren  focal    ⬜⬜⬜⬜⬜\n",
       "11  siren  adapt    ⬜⬜⬜⬜⬜\n",
       "12  siren  match    ⬜⬜⬜⬜⬜\n",
       "13  siren  outdo    ⬜⬜⬜⬜⬜\n",
       "14  siren  polka    ⬜⬜⬜⬜⬜"
      ]
     },
     "execution_count": 2,
     "metadata": {},
     "output_type": "execute_result"
    }
   ],
   "source": [
    "import pandas as pd\n",
    "answers = [\"siren\", \"solar\", \"smart\", \"scour\", \"pixel\", \"video\", \"burnt\", \"north\", \"sinew\", \"dirge\", \"focal\", \"adapt\", \"match\", \"outdo\", \"polka\"]\n",
    "\n",
    "df = pd.DataFrame({\"guess\": [\"siren\"] * len(answers), \"answer\": answers})\n",
    "df[\"response\"] = df.apply(lambda row: wordle_guess(row[\"guess\"], row[\"answer\"]), axis = 1)\n",
    "\n",
    "df"
   ]
  },
  {
   "cell_type": "markdown",
   "metadata": {},
   "source": [
    "The responses are not unique. Let's count the number of possible answers given each response:"
   ]
  },
  {
   "cell_type": "code",
   "execution_count": 3,
   "metadata": {},
   "outputs": [
    {
     "data": {
      "text/plain": [
       "guess  response\n",
       "siren  ⬜⬜⬜⬜⬜       5\n",
       "       ⬜⬜🟩⬜🟨       2\n",
       "       ⬜🟩⬜🟩⬜       2\n",
       "       ⬜🟩🟩🟨⬜       1\n",
       "       🟩⬜🟨⬜⬜       3\n",
       "       🟩🟩⬜🟩🟨       1\n",
       "       🟩🟩🟩🟩🟩       1\n",
       "Name: answer, dtype: int64"
      ]
     },
     "execution_count": 3,
     "metadata": {},
     "output_type": "execute_result"
    }
   ],
   "source": [
    "group_counts = df.groupby([\"guess\", \"response\"])[\"answer\"].count()\n",
    "\n",
    "group_counts"
   ]
  },
  {
   "cell_type": "markdown",
   "metadata": {},
   "source": [
    "Using scipy we can calculate the information entropy of this set of responses:"
   ]
  },
  {
   "cell_type": "code",
   "execution_count": 4,
   "metadata": {},
   "outputs": [
    {
     "data": {
      "text/plain": [
       "1.7670091910745693"
      ]
     },
     "execution_count": 4,
     "metadata": {},
     "output_type": "execute_result"
    }
   ],
   "source": [
    "from scipy.stats import entropy\n",
    "entropy(group_counts)"
   ]
  },
  {
   "cell_type": "markdown",
   "metadata": {},
   "source": [
    "The information entropy is 1.77. \n",
    "\n",
    "We can repeat this calculation for each initial guess to see which gives the greatest information entropy across our answer set:"
   ]
  },
  {
   "cell_type": "code",
   "execution_count": 44,
   "metadata": {},
   "outputs": [
    {
     "data": {
      "text/html": [
       "<div>\n",
       "<style scoped>\n",
       "    .dataframe tbody tr th:only-of-type {\n",
       "        vertical-align: middle;\n",
       "    }\n",
       "\n",
       "    .dataframe tbody tr th {\n",
       "        vertical-align: top;\n",
       "    }\n",
       "\n",
       "    .dataframe thead th {\n",
       "        text-align: right;\n",
       "    }\n",
       "</style>\n",
       "<table border=\"1\" class=\"dataframe\">\n",
       "  <thead>\n",
       "    <tr style=\"text-align: right;\">\n",
       "      <th></th>\n",
       "      <th>guess</th>\n",
       "      <th>entropy</th>\n",
       "    </tr>\n",
       "  </thead>\n",
       "  <tbody>\n",
       "    <tr>\n",
       "      <th>0</th>\n",
       "      <td>north</td>\n",
       "      <td>2.615631</td>\n",
       "    </tr>\n",
       "    <tr>\n",
       "      <th>1</th>\n",
       "      <td>scour</td>\n",
       "      <td>2.430791</td>\n",
       "    </tr>\n",
       "    <tr>\n",
       "      <th>2</th>\n",
       "      <td>smart</td>\n",
       "      <td>2.430791</td>\n",
       "    </tr>\n",
       "    <tr>\n",
       "      <th>3</th>\n",
       "      <td>solar</td>\n",
       "      <td>2.430791</td>\n",
       "    </tr>\n",
       "    <tr>\n",
       "      <th>4</th>\n",
       "      <td>burnt</td>\n",
       "      <td>2.338372</td>\n",
       "    </tr>\n",
       "  </tbody>\n",
       "</table>\n",
       "</div>"
      ],
      "text/plain": [
       "   guess   entropy\n",
       "0  north  2.615631\n",
       "1  scour  2.430791\n",
       "2  smart  2.430791\n",
       "3  solar  2.430791\n",
       "4  burnt  2.338372"
      ]
     },
     "execution_count": 44,
     "metadata": {},
     "output_type": "execute_result"
    }
   ],
   "source": [
    "from itertools import product\n",
    "\n",
    "df = pd.DataFrame(product(answers, answers), columns = [\"answer\", \"guess\"])\n",
    "\n",
    "df[\"response\"] = df.apply(lambda row: wordle_guess(row[\"guess\"], row[\"answer\"]), axis=1)\n",
    "\n",
    "group_counts = df.groupby([\"guess\", \"response\"], as_index = False).count()\n",
    "\n",
    "entropy_df = group_counts.groupby('guess', as_index=False).agg({\"answer\": entropy}).rename(columns = {\"answer\": \"entropy\"})\n",
    "\n",
    "entropy_df = entropy_df.sort_values(\"entropy\", ascending = False).reset_index(drop = True)\n",
    "\n",
    "entropy_df[:5]"
   ]
  },
  {
   "cell_type": "markdown",
   "metadata": {},
   "source": [
    "For this set the best initial guess is \"north\", with an entropy of 2.62. This is close to the entropy of the 15-word set, which is log(15) = 2.71. "
   ]
  },
  {
   "cell_type": "markdown",
   "metadata": {},
   "source": [
    "## Results\n",
    "\n",
    "Here are the results from running this algorithm over the whole set of Wordle guesses and answers:"
   ]
  },
  {
   "cell_type": "code",
   "execution_count": 5,
   "metadata": {},
   "outputs": [
    {
     "data": {
      "text/html": [
       "<div>\n",
       "<style scoped>\n",
       "    .dataframe tbody tr th:only-of-type {\n",
       "        vertical-align: middle;\n",
       "    }\n",
       "\n",
       "    .dataframe tbody tr th {\n",
       "        vertical-align: top;\n",
       "    }\n",
       "\n",
       "    .dataframe thead th {\n",
       "        text-align: right;\n",
       "    }\n",
       "</style>\n",
       "<table border=\"1\" class=\"dataframe\">\n",
       "  <thead>\n",
       "    <tr style=\"text-align: right;\">\n",
       "      <th></th>\n",
       "      <th>guess</th>\n",
       "      <th>entropy</th>\n",
       "    </tr>\n",
       "  </thead>\n",
       "  <tbody>\n",
       "    <tr>\n",
       "      <th>0</th>\n",
       "      <td>soare</td>\n",
       "      <td>4.079837</td>\n",
       "    </tr>\n",
       "    <tr>\n",
       "      <th>1</th>\n",
       "      <td>roate</td>\n",
       "      <td>4.077632</td>\n",
       "    </tr>\n",
       "    <tr>\n",
       "      <th>2</th>\n",
       "      <td>raise</td>\n",
       "      <td>4.074257</td>\n",
       "    </tr>\n",
       "    <tr>\n",
       "      <th>3</th>\n",
       "      <td>raile</td>\n",
       "      <td>4.065800</td>\n",
       "    </tr>\n",
       "    <tr>\n",
       "      <th>4</th>\n",
       "      <td>reast</td>\n",
       "      <td>4.065625</td>\n",
       "    </tr>\n",
       "    <tr>\n",
       "      <th>5</th>\n",
       "      <td>slate</td>\n",
       "      <td>4.058914</td>\n",
       "    </tr>\n",
       "    <tr>\n",
       "      <th>6</th>\n",
       "      <td>crate</td>\n",
       "      <td>4.044426</td>\n",
       "    </tr>\n",
       "    <tr>\n",
       "      <th>7</th>\n",
       "      <td>salet</td>\n",
       "      <td>4.044224</td>\n",
       "    </tr>\n",
       "    <tr>\n",
       "      <th>8</th>\n",
       "      <td>irate</td>\n",
       "      <td>4.042016</td>\n",
       "    </tr>\n",
       "    <tr>\n",
       "      <th>9</th>\n",
       "      <td>trace</td>\n",
       "      <td>4.041428</td>\n",
       "    </tr>\n",
       "    <tr>\n",
       "      <th>10</th>\n",
       "      <td>arise</td>\n",
       "      <td>4.034768</td>\n",
       "    </tr>\n",
       "    <tr>\n",
       "      <th>11</th>\n",
       "      <td>orate</td>\n",
       "      <td>4.032149</td>\n",
       "    </tr>\n",
       "    <tr>\n",
       "      <th>12</th>\n",
       "      <td>stare</td>\n",
       "      <td>4.025300</td>\n",
       "    </tr>\n",
       "    <tr>\n",
       "      <th>13</th>\n",
       "      <td>carte</td>\n",
       "      <td>4.016481</td>\n",
       "    </tr>\n",
       "    <tr>\n",
       "      <th>14</th>\n",
       "      <td>raine</td>\n",
       "      <td>4.011042</td>\n",
       "    </tr>\n",
       "    <tr>\n",
       "      <th>15</th>\n",
       "      <td>caret</td>\n",
       "      <td>4.004112</td>\n",
       "    </tr>\n",
       "    <tr>\n",
       "      <th>16</th>\n",
       "      <td>ariel</td>\n",
       "      <td>4.003040</td>\n",
       "    </tr>\n",
       "  </tbody>\n",
       "</table>\n",
       "</div>"
      ],
      "text/plain": [
       "    guess   entropy\n",
       "0   soare  4.079837\n",
       "1   roate  4.077632\n",
       "2   raise  4.074257\n",
       "3   raile  4.065800\n",
       "4   reast  4.065625\n",
       "5   slate  4.058914\n",
       "6   crate  4.044426\n",
       "7   salet  4.044224\n",
       "8   irate  4.042016\n",
       "9   trace  4.041428\n",
       "10  arise  4.034768\n",
       "11  orate  4.032149\n",
       "12  stare  4.025300\n",
       "13  carte  4.016481\n",
       "14  raine  4.011042\n",
       "15  caret  4.004112\n",
       "16  ariel  4.003040"
      ]
     },
     "execution_count": 5,
     "metadata": {},
     "output_type": "execute_result"
    }
   ],
   "source": [
    "result_df = pd.read_csv(\"top_words.csv\")\n",
    "\n",
    "result_df"
   ]
  },
  {
   "cell_type": "markdown",
   "metadata": {},
   "source": [
    "In terms of information, the best word is \"soare\" (an archaic word for a young hawk), providing 4.080 nats of information. The best real word is \"raise\", which provides 4.074 nats. "
   ]
  }
 ],
 "metadata": {
  "kernelspec": {
   "display_name": "Python 3",
   "language": "python",
   "name": "python3"
  },
  "language_info": {
   "codemirror_mode": {
    "name": "ipython",
    "version": 3
   },
   "file_extension": ".py",
   "mimetype": "text/x-python",
   "name": "python",
   "nbconvert_exporter": "python",
   "pygments_lexer": "ipython3",
   "version": "3.8.3"
  }
 },
 "nbformat": 4,
 "nbformat_minor": 4
}
